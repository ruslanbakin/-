{
  "nbformat": 4,
  "nbformat_minor": 0,
  "metadata": {
    "colab": {
      "provenance": [],
      "authorship_tag": "ABX9TyM6hYVb9zxPEtKEsN3PNCVb",
      "include_colab_link": true
    },
    "kernelspec": {
      "name": "python3",
      "display_name": "Python 3"
    },
    "language_info": {
      "name": "python"
    }
  },
  "cells": [
    {
      "cell_type": "markdown",
      "metadata": {
        "id": "view-in-github",
        "colab_type": "text"
      },
      "source": [
        "<a href=\"https://colab.research.google.com/github/ruslanbakin/-/blob/main/%D0%9E%D1%87%D0%B5%D1%80%D0%B5%D0%B4%D1%8C_%D0%B7%D0%B0%D0%BA%D0%B0%D0%B7%D0%BE%D0%B2_%D0%B2_%D1%80%D0%BE%D0%B7%D0%BD%D0%B8%D1%87%D0%BD%D0%BE%D0%B9_%D1%82%D0%BE%D1%80%D0%B3%D0%BE%D0%B2%D0%BB%D0%B5.ipynb\" target=\"_parent\"><img src=\"https://colab.research.google.com/assets/colab-badge.svg\" alt=\"Open In Colab\"/></a>"
      ]
    },
    {
      "cell_type": "code",
      "execution_count": 1,
      "metadata": {
        "colab": {
          "base_uri": "https://localhost:8080/"
        },
        "id": "pXjts_pv0l4M",
        "outputId": "078091cc-7a4a-4d38-e470-0db334388a76"
      },
      "outputs": [
        {
          "output_type": "stream",
          "name": "stdout",
          "text": [
            "Заказ ('Заказ1', 'high') добавлен в очередь.\n",
            "Заказ ('Заказ2', 'low') добавлен в очередь.\n",
            "Заказ ('Заказ3', 'medium') добавлен в очередь.\n",
            "Заказ ('Заказ1', 'high') отправлен в отдел Отдел высокого приоритета.\n",
            "Заказ ('Заказ2', 'low') отправлен в отдел Отдел низкого приоритета.\n",
            "Заказ ('Заказ3', 'medium') отправлен в отдел Отдел среднего приоритета.\n"
          ]
        }
      ],
      "source": [
        "import collections\n",
        "\n",
        "class RetailQueue:\n",
        "    def __init__(self):\n",
        "        self.order_queue = collections.deque()\n",
        "\n",
        "    def enqueue_order(self, order):\n",
        "        # Добавление заказа в конец очереди\n",
        "        self.order_queue.append(order)\n",
        "        # Вывод сообщения о добавлении заказа в очередь\n",
        "        print(f\"Заказ {order} добавлен в очередь.\")\n",
        "\n",
        "    def process_orders(self, departments):\n",
        "        # Пока в очереди есть заказы\n",
        "        while self.order_queue:\n",
        "            # Извлечение заказа из начала очереди\n",
        "            order = self.order_queue.popleft()\n",
        "            # Получение приоритета заказа (предположим, что приоритет - второй элемент кортежа)\n",
        "            priority = order[1]\n",
        "            # Определение отдела для заказа\n",
        "            department = self.determine_department(priority, departments)\n",
        "            # Вывод сообщения о том, что заказ отправлен в определенный отдел\n",
        "            print(f\"Заказ {order} отправлен в отдел {department}.\")\n",
        "\n",
        "    def determine_department(self, priority, departments):\n",
        "\n",
        "        if priority == \"high\":\n",
        "            return departments[\"high_priority\"]\n",
        "        elif priority == \"medium\":\n",
        "            return departments[\"medium_priority\"]\n",
        "        else:\n",
        "            return departments[\"low_priority\"]\n",
        "\n",
        "departments_mapping = {\n",
        "    \"high_priority\": \"Отдел высокого приоритета\",\n",
        "    \"medium_priority\": \"Отдел среднего приоритета\",\n",
        "    \"low_priority\": \"Отдел низкого приоритета\"\n",
        "}\n",
        "\n",
        "retail_queue = RetailQueue()\n",
        "\n",
        "retail_queue.enqueue_order((\"Заказ1\", \"high\"))\n",
        "retail_queue.enqueue_order((\"Заказ2\", \"low\"))\n",
        "retail_queue.enqueue_order((\"Заказ3\", \"medium\"))\n",
        "\n",
        "retail_queue.process_orders(departments_mapping)"
      ]
    }
  ]
}